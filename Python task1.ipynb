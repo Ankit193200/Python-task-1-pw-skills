{
 "cells": [
  {
   "cell_type": "markdown",
   "id": "4f88b21e-bdc1-4b98-9c32-8598172be014",
   "metadata": {},
   "source": [
    "# Question 1"
   ]
  },
  {
   "cell_type": "code",
   "execution_count": null,
   "id": "448728db-da7f-4bd6-8e5b-3b12922c5ee7",
   "metadata": {},
   "outputs": [],
   "source": [
    "# sulotion\n",
    "list1 = [1,2,3,4, [44,55,66, True], False, (34,56,78,89,34), {1,2,3,3,2,1}, {1:34, \"key2\": [55, 67, 78, 89], 4: (45,22, 61, 34)}, [56, \"data science\"], 'Machine Learning']"
   ]
  },
  {
   "cell_type": "code",
   "execution_count": 45,
   "id": "ce4a6833-4962-4db4-8f4a-1c81017145a2",
   "metadata": {},
   "outputs": [],
   "source": [
    "def test(list1):\n",
    "    li=[]\n",
    "    for element in list1:\n",
    "        if type(element) is int:\n",
    "            li.append(element**2)\n",
    "        \n",
    "        if type(element) is list :\n",
    "            for item in element:\n",
    "                    if type(item) is int:\n",
    "                        li.append(item**2) \n",
    "        \n",
    "        elif type(element) is dict :\n",
    "                for item in element:\n",
    "                    if type(item) is int:\n",
    "                         li.append(item**2) \n",
    "                   \n",
    "        elif type(element) is tuple :\n",
    "                for item in element:\n",
    "                    if type(item) is int:\n",
    "                        li.append(item**2) \n",
    "        \n",
    "        elif type(element) is set :\n",
    "                for item in element:\n",
    "                    if type(item) is int:\n",
    "                        li.append(item**2) \n",
    "                \n",
    "                        \n",
    "    return li"
   ]
  },
  {
   "cell_type": "code",
   "execution_count": 46,
   "id": "876a2182-9ca9-4a27-8233-aaec854d15a6",
   "metadata": {},
   "outputs": [
    {
     "data": {
      "text/plain": [
       "[1,\n",
       " 4,\n",
       " 9,\n",
       " 16,\n",
       " 1936,\n",
       " 3025,\n",
       " 4356,\n",
       " 1156,\n",
       " 3136,\n",
       " 6084,\n",
       " 7921,\n",
       " 1156,\n",
       " 1,\n",
       " 4,\n",
       " 9,\n",
       " 1,\n",
       " 16,\n",
       " 3136]"
      ]
     },
     "execution_count": 46,
     "metadata": {},
     "output_type": "execute_result"
    }
   ],
   "source": [
    "test(list1)"
   ]
  },
  {
   "cell_type": "markdown",
   "id": "4b3e046c-e97c-4aba-8888-9f3d073a1a87",
   "metadata": {},
   "source": [
    "# question2"
   ]
  },
  {
   "cell_type": "code",
   "execution_count": 54,
   "id": "23f871a7-5aad-496a-a140-71d5c8537a7d",
   "metadata": {},
   "outputs": [],
   "source": [
    "string ='I want to become a Data Scientist.'"
   ]
  },
  {
   "cell_type": "code",
   "execution_count": 57,
   "id": "3925c413-9ee4-4d23-b64b-c2fe28c53a4f",
   "metadata": {},
   "outputs": [
    {
     "data": {
      "text/plain": [
       "'i$wznt$to$yexome$z$dztz$sxientist.'"
      ]
     },
     "execution_count": 57,
     "metadata": {},
     "output_type": "execute_result"
    }
   ],
   "source": [
    "s=string.lower()\n",
    "s.replace(' ','$').replace('a','z').replace('b','y').replace('c','x')"
   ]
  },
  {
   "cell_type": "code",
   "execution_count": 50,
   "id": "a277db00-1e8e-4e09-9e72-484e650eecd8",
   "metadata": {},
   "outputs": [
    {
     "data": {
      "text/plain": [
       "34"
      ]
     },
     "execution_count": 50,
     "metadata": {},
     "output_type": "execute_result"
    }
   ],
   "source": []
  },
  {
   "cell_type": "code",
   "execution_count": null,
   "id": "60e16dad-aeab-4f83-961b-8c0152803788",
   "metadata": {},
   "outputs": [],
   "source": []
  }
 ],
 "metadata": {
  "kernelspec": {
   "display_name": "Python 3 (ipykernel)",
   "language": "python",
   "name": "python3"
  },
  "language_info": {
   "codemirror_mode": {
    "name": "ipython",
    "version": 3
   },
   "file_extension": ".py",
   "mimetype": "text/x-python",
   "name": "python",
   "nbconvert_exporter": "python",
   "pygments_lexer": "ipython3",
   "version": "3.10.8"
  }
 },
 "nbformat": 4,
 "nbformat_minor": 5
}
